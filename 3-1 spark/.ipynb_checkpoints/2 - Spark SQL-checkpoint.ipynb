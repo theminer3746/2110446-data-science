{
 "cells": [
  {
   "cell_type": "markdown",
   "metadata": {},
   "source": [
    "# Spark SQL Commands"
   ]
  },
  {
   "cell_type": "code",
   "execution_count": 1,
   "metadata": {},
   "outputs": [],
   "source": [
    "path = 'wongnai.csv'"
   ]
  },
  {
   "cell_type": "code",
   "execution_count": 2,
   "metadata": {},
   "outputs": [],
   "source": [
    "df = spark.read.csv(path, header=True)"
   ]
  },
  {
   "cell_type": "code",
   "execution_count": 3,
   "metadata": {},
   "outputs": [
    {
     "name": "stdout",
     "output_type": "stream",
     "text": [
      "+---+---+--------------------+-----------+-------+------------------+------------------+-----------+---------+-------------------+----------------------------+---+---------------+------------------+------------------+\n",
      "|_c0| id|                name|category_id|city_id|          latitude|         longitude|price_range|avg_price|number_of_bookmarks|number_of_favorite_bookmarks|top|best_of_wongnai|number_of_checkins|    all_time_score|\n",
      "+---+---+--------------------+-----------+-------+------------------+------------------+-----------+---------+-------------------+----------------------------+---+---------------+------------------+------------------+\n",
      "|  0|  2|         บ้านกลมกิ๊ก|        3.0|    1.0|13.738961999999999|        100.550248|        2.0|    175.0|                294|                          84|  1|           null|                32| 22487.87235772358|\n",
      "|  1|  3|โรงเบียร์เยอรมันต...|       33.0|    1.0|          13.84232|        100.634959|        3.0|     null|                  2|                           2|  0|           null|                 0|              92.9|\n",
      "|  2|  4|             Kosirae|       43.0|    1.0|13.724998999999999|100.57971500000001|        3.0|    375.0|               3405|                         989|  1|           66.0|               173|239274.95038973386|\n",
      "|  3|  5|Ho Kitchen Seafoo...|       29.0|    1.0|13.687332514024973|100.55081699140169|        3.0|     null|                 94|                          24|  0|           null|                21| 13307.51275471698|\n",
      "|  4|  6| Barley Bistro & Bar|        3.0|    1.0|13.726498999999999|        100.529425|        3.0|    375.0|                249|                         146|  1|           null|                14|19606.094679802958|\n",
      "|  5|  7|             Sirocco|       53.0|    1.0|         13.721769|        100.516887|        5.0|   1500.0|               1653|                         596|  1|          113.0|                27|         207255.72|\n",
      "|  6|  8|           Steak Bkk|        8.0|    1.0|13.728473000000001|        100.657228|        2.0|     null|                  6|                           6|  0|           null|                 3|              -1.0|\n",
      "|  7|  9|Peony Teafe' & Ga...|       24.0|    1.0|         13.725478|100.53805899999999|        2.0|     null|                596|                         416|  1|           null|                25|              -1.0|\n",
      "|  8| 10|        คิวซัง ราเมน|        2.0|    1.0|13.728745000000002|        100.657078|        2.0|     null|                 32|                          27|  1|           null|                10|              -1.0|\n",
      "|  9| 14|  เจ๊โอว ข้าวต้มเป็ด|       56.0|    1.0|13.742517000000001|        100.522513|        1.0|     50.0|               3643|                         670|  1|           36.0|               316|229334.21465809466|\n",
      "| 10| 15|     Author's Lounge|       14.0|    1.0|         13.723915|100.51439599999999|        4.0|   1500.0|                105|                          32|  0|           null|                10|15779.146024096384|\n",
      "| 11| 16|         Oldies Cafe|       33.0|    1.0|13.732548000000001|100.53064599999999|        1.0|     null|                 40|                           7|  0|           null|                45|6699.3439192734595|\n",
      "| 12| 17|       Spicy Kitchen|        8.0|    1.0|13.735585999999998|        100.562015|        2.0|     null|                  1|                           1|  0|           null|                 0|              -1.0|\n",
      "| 13| 18| Another Hound Café |        5.0|    1.0|13.746245618737026|100.53452228902437|        3.0|      0.0|                279|                         155|  1|           null|                82|              -1.0|\n",
      "| 14| 19|ข้าว ยำ ตำ เตี๋ยว...|       28.0|    1.0|         13.745017|         100.53205|        2.0|     null|                 24|                          23|  0|           null|                 3|              -1.0|\n",
      "| 15| 20|เฮียตือหูฉลาม เยา...|       12.0|    1.0|13.740236999999999|100.51025200000001|        2.0|    175.0|                757|                         336|  1|           null|                64|49635.059675675686|\n",
      "| 16| 21|โกอ่างข้าวมันไก่ป...|       36.0|    1.0|13.749554000000002|        100.541917|        1.0|     50.0|               1245|                         355|  1|           null|               193|102906.29838655461|\n",
      "| 17| 22|    Tonkatsu Rakutei|        2.0|    1.0|         13.742392|100.57179000000001|        3.0|     null|                 15|                          15|  0|           null|                 0|              -1.0|\n",
      "| 18| 23|Sambuca Pizzeria ...|        5.0|    1.0|        13.7145685|        100.532424|        3.0|     null|                 17|                          15|  0|           null|                 1|              -1.0|\n",
      "| 19| 24|      ภัตตาคารจานทอง|        4.0|    1.0|         13.784069|         100.36361|        3.0|     null|                 39|                          10|  0|           null|                 4| 4084.008301886792|\n",
      "+---+---+--------------------+-----------+-------+------------------+------------------+-----------+---------+-------------------+----------------------------+---+---------------+------------------+------------------+\n",
      "only showing top 20 rows\n",
      "\n"
     ]
    }
   ],
   "source": [
    "df.show()"
   ]
  },
  {
   "cell_type": "code",
   "execution_count": 4,
   "metadata": {},
   "outputs": [
    {
     "name": "stdout",
     "output_type": "stream",
     "text": [
      "root\n",
      " |-- _c0: string (nullable = true)\n",
      " |-- id: string (nullable = true)\n",
      " |-- name: string (nullable = true)\n",
      " |-- category_id: string (nullable = true)\n",
      " |-- city_id: string (nullable = true)\n",
      " |-- latitude: string (nullable = true)\n",
      " |-- longitude: string (nullable = true)\n",
      " |-- price_range: string (nullable = true)\n",
      " |-- avg_price: string (nullable = true)\n",
      " |-- number_of_bookmarks: string (nullable = true)\n",
      " |-- number_of_favorite_bookmarks: string (nullable = true)\n",
      " |-- top: string (nullable = true)\n",
      " |-- best_of_wongnai: string (nullable = true)\n",
      " |-- number_of_checkins: string (nullable = true)\n",
      " |-- all_time_score: string (nullable = true)\n",
      "\n"
     ]
    }
   ],
   "source": [
    "df.printSchema()"
   ]
  },
  {
   "cell_type": "code",
   "execution_count": 5,
   "metadata": {},
   "outputs": [
    {
     "name": "stdout",
     "output_type": "stream",
     "text": [
      "+--------------------+-------------------+-------------------------+\n",
      "|                name|number_of_bookmarks|(number_of_bookmarks * 2)|\n",
      "+--------------------+-------------------+-------------------------+\n",
      "|         บ้านกลมกิ๊ก|                294|                    588.0|\n",
      "|โรงเบียร์เยอรมันต...|                  2|                      4.0|\n",
      "|             Kosirae|               3405|                   6810.0|\n",
      "|Ho Kitchen Seafoo...|                 94|                    188.0|\n",
      "| Barley Bistro & Bar|                249|                    498.0|\n",
      "|             Sirocco|               1653|                   3306.0|\n",
      "|           Steak Bkk|                  6|                     12.0|\n",
      "|Peony Teafe' & Ga...|                596|                   1192.0|\n",
      "|        คิวซัง ราเมน|                 32|                     64.0|\n",
      "|  เจ๊โอว ข้าวต้มเป็ด|               3643|                   7286.0|\n",
      "|     Author's Lounge|                105|                    210.0|\n",
      "|         Oldies Cafe|                 40|                     80.0|\n",
      "|       Spicy Kitchen|                  1|                      2.0|\n",
      "| Another Hound Café |                279|                    558.0|\n",
      "|ข้าว ยำ ตำ เตี๋ยว...|                 24|                     48.0|\n",
      "|เฮียตือหูฉลาม เยา...|                757|                   1514.0|\n",
      "|โกอ่างข้าวมันไก่ป...|               1245|                   2490.0|\n",
      "|    Tonkatsu Rakutei|                 15|                     30.0|\n",
      "|Sambuca Pizzeria ...|                 17|                     34.0|\n",
      "|      ภัตตาคารจานทอง|                 39|                     78.0|\n",
      "+--------------------+-------------------+-------------------------+\n",
      "only showing top 20 rows\n",
      "\n"
     ]
    }
   ],
   "source": [
    "df.select(df['name'], df['number_of_bookmarks'], df['number_of_bookmarks']*2).show()"
   ]
  },
  {
   "cell_type": "code",
   "execution_count": 6,
   "metadata": {},
   "outputs": [
    {
     "name": "stdout",
     "output_type": "stream",
     "text": [
      "+--------------------+---------+\n",
      "|                name|avg_price|\n",
      "+--------------------+---------+\n",
      "|         บ้านกลมกิ๊ก|    175.0|\n",
      "|             Kosirae|    375.0|\n",
      "| Barley Bistro & Bar|    375.0|\n",
      "|             Sirocco|   1500.0|\n",
      "|     Author's Lounge|   1500.0|\n",
      "|เฮียตือหูฉลาม เยา...|    175.0|\n",
      "|   NARA Thai Cuisine|    175.0|\n",
      "|ครัวเจ๊ง้อ สาขา4 ...|    750.0|\n",
      "|           Ramen Tei|    175.0|\n",
      "|           Silk Road|   1500.0|\n",
      "|Volti Restaurant ...|   1500.0|\n",
      "|                 Aoi|   1500.0|\n",
      "|                 Aoi|   1500.0|\n",
      "|       BLUE ELEPHANT|    375.0|\n",
      "|           Rio Grill|    375.0|\n",
      "|          Cafe Casta|    750.0|\n",
      "|New Cosmo Thai Se...|    375.0|\n",
      "|Dynasty Centara G...|   1500.0|\n",
      "|East Ocean Chines...|    750.0|\n",
      "|       The Greatwall|    750.0|\n",
      "+--------------------+---------+\n",
      "only showing top 20 rows\n",
      "\n"
     ]
    }
   ],
   "source": [
    "df.filter(df['avg_price'] > 100).select('name', 'avg_price').show()"
   ]
  },
  {
   "cell_type": "code",
   "execution_count": 29,
   "metadata": {},
   "outputs": [
    {
     "name": "stdout",
     "output_type": "stream",
     "text": [
      "+-----------+-----+\n",
      "|category_id|count|\n",
      "+-----------+-----+\n",
      "|        3.0|39458|\n",
      "|       14.0|29813|\n",
      "|       30.0|29759|\n",
      "|       37.0|24307|\n",
      "|       36.0|15255|\n",
      "|       34.0|13518|\n",
      "|       12.0| 7959|\n",
      "|       24.0| 7744|\n",
      "|       35.0| 7620|\n",
      "|       23.0| 7009|\n",
      "|        4.0| 6860|\n",
      "|       29.0| 6794|\n",
      "|       21.0| 6381|\n",
      "|       15.0| 5828|\n",
      "|        2.0| 5713|\n",
      "|       20.0| 5105|\n",
      "|       33.0| 4045|\n",
      "|       28.0| 3923|\n",
      "|       18.0| 3828|\n",
      "|       25.0| 3780|\n",
      "+-----------+-----+\n",
      "only showing top 20 rows\n",
      "\n"
     ]
    }
   ],
   "source": [
    "top_cat = df.groupBy('category_id').count().orderBy('count', ascending=False)\n",
    "top_cat.show()"
   ]
  },
  {
   "cell_type": "code",
   "execution_count": 14,
   "metadata": {},
   "outputs": [
    {
     "data": {
      "text/html": [
       "<div>\n",
       "<style scoped>\n",
       "    .dataframe tbody tr th:only-of-type {\n",
       "        vertical-align: middle;\n",
       "    }\n",
       "\n",
       "    .dataframe tbody tr th {\n",
       "        vertical-align: top;\n",
       "    }\n",
       "\n",
       "    .dataframe thead th {\n",
       "        text-align: right;\n",
       "    }\n",
       "</style>\n",
       "<table border=\"1\" class=\"dataframe\">\n",
       "  <thead>\n",
       "    <tr style=\"text-align: right;\">\n",
       "      <th></th>\n",
       "      <th>id</th>\n",
       "      <th>category</th>\n",
       "    </tr>\n",
       "  </thead>\n",
       "  <tbody>\n",
       "    <tr>\n",
       "      <th>0</th>\n",
       "      <td>2</td>\n",
       "      <td>Japanese</td>\n",
       "    </tr>\n",
       "    <tr>\n",
       "      <th>1</th>\n",
       "      <td>3</td>\n",
       "      <td>Thai</td>\n",
       "    </tr>\n",
       "    <tr>\n",
       "      <th>2</th>\n",
       "      <td>4</td>\n",
       "      <td>Chinese</td>\n",
       "    </tr>\n",
       "    <tr>\n",
       "      <th>3</th>\n",
       "      <td>5</td>\n",
       "      <td>Italian</td>\n",
       "    </tr>\n",
       "    <tr>\n",
       "      <th>4</th>\n",
       "      <td>6</td>\n",
       "      <td>Korean</td>\n",
       "    </tr>\n",
       "    <tr>\n",
       "      <th>5</th>\n",
       "      <td>7</td>\n",
       "      <td>Vietnam</td>\n",
       "    </tr>\n",
       "    <tr>\n",
       "      <th>6</th>\n",
       "      <td>8</td>\n",
       "      <td>American</td>\n",
       "    </tr>\n",
       "    <tr>\n",
       "      <th>7</th>\n",
       "      <td>9</td>\n",
       "      <td>French</td>\n",
       "    </tr>\n",
       "    <tr>\n",
       "      <th>8</th>\n",
       "      <td>10</td>\n",
       "      <td>Indian</td>\n",
       "    </tr>\n",
       "    <tr>\n",
       "      <th>9</th>\n",
       "      <td>11</td>\n",
       "      <td>Buffet</td>\n",
       "    </tr>\n",
       "    <tr>\n",
       "      <th>10</th>\n",
       "      <td>12</td>\n",
       "      <td>Street Food</td>\n",
       "    </tr>\n",
       "    <tr>\n",
       "      <th>11</th>\n",
       "      <td>13</td>\n",
       "      <td>Fusion Food</td>\n",
       "    </tr>\n",
       "    <tr>\n",
       "      <th>12</th>\n",
       "      <td>14</td>\n",
       "      <td>Coffee Shop</td>\n",
       "    </tr>\n",
       "    <tr>\n",
       "      <th>13</th>\n",
       "      <td>15</td>\n",
       "      <td>Others</td>\n",
       "    </tr>\n",
       "  </tbody>\n",
       "</table>\n",
       "</div>"
      ],
      "text/plain": [
       "    id     category\n",
       "0    2     Japanese\n",
       "1    3         Thai\n",
       "2    4      Chinese\n",
       "3    5      Italian\n",
       "4    6       Korean\n",
       "5    7      Vietnam\n",
       "6    8     American\n",
       "7    9       French\n",
       "8   10       Indian\n",
       "9   11       Buffet\n",
       "10  12  Street Food\n",
       "11  13  Fusion Food\n",
       "12  14  Coffee Shop\n",
       "13  15       Others"
      ]
     },
     "execution_count": 14,
     "metadata": {},
     "output_type": "execute_result"
    }
   ],
   "source": [
    "import pandas as pd\n",
    "cat_df = pd.read_csv('cat_id.csv', names=('id', 'category'), dtype=(str, str))\n",
    "cat_df"
   ]
  },
  {
   "cell_type": "code",
   "execution_count": 15,
   "metadata": {},
   "outputs": [
    {
     "data": {
      "text/html": [
       "<div>\n",
       "<style scoped>\n",
       "    .dataframe tbody tr th:only-of-type {\n",
       "        vertical-align: middle;\n",
       "    }\n",
       "\n",
       "    .dataframe tbody tr th {\n",
       "        vertical-align: top;\n",
       "    }\n",
       "\n",
       "    .dataframe thead th {\n",
       "        text-align: right;\n",
       "    }\n",
       "</style>\n",
       "<table border=\"1\" class=\"dataframe\">\n",
       "  <thead>\n",
       "    <tr style=\"text-align: right;\">\n",
       "      <th></th>\n",
       "      <th>id</th>\n",
       "      <th>category</th>\n",
       "    </tr>\n",
       "  </thead>\n",
       "  <tbody>\n",
       "    <tr>\n",
       "      <th>0</th>\n",
       "      <td>2.0</td>\n",
       "      <td>Japanese</td>\n",
       "    </tr>\n",
       "    <tr>\n",
       "      <th>1</th>\n",
       "      <td>3.0</td>\n",
       "      <td>Thai</td>\n",
       "    </tr>\n",
       "    <tr>\n",
       "      <th>2</th>\n",
       "      <td>4.0</td>\n",
       "      <td>Chinese</td>\n",
       "    </tr>\n",
       "    <tr>\n",
       "      <th>3</th>\n",
       "      <td>5.0</td>\n",
       "      <td>Italian</td>\n",
       "    </tr>\n",
       "    <tr>\n",
       "      <th>4</th>\n",
       "      <td>6.0</td>\n",
       "      <td>Korean</td>\n",
       "    </tr>\n",
       "    <tr>\n",
       "      <th>5</th>\n",
       "      <td>7.0</td>\n",
       "      <td>Vietnam</td>\n",
       "    </tr>\n",
       "    <tr>\n",
       "      <th>6</th>\n",
       "      <td>8.0</td>\n",
       "      <td>American</td>\n",
       "    </tr>\n",
       "    <tr>\n",
       "      <th>7</th>\n",
       "      <td>9.0</td>\n",
       "      <td>French</td>\n",
       "    </tr>\n",
       "    <tr>\n",
       "      <th>8</th>\n",
       "      <td>10.0</td>\n",
       "      <td>Indian</td>\n",
       "    </tr>\n",
       "    <tr>\n",
       "      <th>9</th>\n",
       "      <td>11.0</td>\n",
       "      <td>Buffet</td>\n",
       "    </tr>\n",
       "    <tr>\n",
       "      <th>10</th>\n",
       "      <td>12.0</td>\n",
       "      <td>Street Food</td>\n",
       "    </tr>\n",
       "    <tr>\n",
       "      <th>11</th>\n",
       "      <td>13.0</td>\n",
       "      <td>Fusion Food</td>\n",
       "    </tr>\n",
       "    <tr>\n",
       "      <th>12</th>\n",
       "      <td>14.0</td>\n",
       "      <td>Coffee Shop</td>\n",
       "    </tr>\n",
       "    <tr>\n",
       "      <th>13</th>\n",
       "      <td>15.0</td>\n",
       "      <td>Others</td>\n",
       "    </tr>\n",
       "  </tbody>\n",
       "</table>\n",
       "</div>"
      ],
      "text/plain": [
       "      id     category\n",
       "0    2.0     Japanese\n",
       "1    3.0         Thai\n",
       "2    4.0      Chinese\n",
       "3    5.0      Italian\n",
       "4    6.0       Korean\n",
       "5    7.0      Vietnam\n",
       "6    8.0     American\n",
       "7    9.0       French\n",
       "8   10.0       Indian\n",
       "9   11.0       Buffet\n",
       "10  12.0  Street Food\n",
       "11  13.0  Fusion Food\n",
       "12  14.0  Coffee Shop\n",
       "13  15.0       Others"
      ]
     },
     "execution_count": 15,
     "metadata": {},
     "output_type": "execute_result"
    }
   ],
   "source": [
    "cat_df.id = cat_df.id + '.0'\n",
    "cat_df"
   ]
  },
  {
   "cell_type": "code",
   "execution_count": 16,
   "metadata": {},
   "outputs": [
    {
     "data": {
      "text/plain": [
       "{'2.0': 'Japanese',\n",
       " '3.0': 'Thai',\n",
       " '4.0': 'Chinese',\n",
       " '5.0': 'Italian',\n",
       " '6.0': 'Korean',\n",
       " '7.0': 'Vietnam',\n",
       " '8.0': 'American',\n",
       " '9.0': 'French',\n",
       " '10.0': 'Indian',\n",
       " '11.0': 'Buffet',\n",
       " '12.0': 'Street Food',\n",
       " '13.0': 'Fusion Food',\n",
       " '14.0': 'Coffee Shop',\n",
       " '15.0': 'Others'}"
      ]
     },
     "execution_count": 16,
     "metadata": {},
     "output_type": "execute_result"
    }
   ],
   "source": [
    "cat_mapping = cat_df.set_index('id').to_dict()['category']\n",
    "cat_mapping"
   ]
  },
  {
   "cell_type": "code",
   "execution_count": 22,
   "metadata": {},
   "outputs": [],
   "source": [
    "from pyspark.sql.functions import udf\n",
    "from pyspark.sql.types import StringType"
   ]
  },
  {
   "cell_type": "code",
   "execution_count": 36,
   "metadata": {},
   "outputs": [],
   "source": [
    "def category_mapping(cat_id): \n",
    "    if cat_id in cat_mapping:\n",
    "        return cat_mapping[cat_id]\n",
    "    else:\n",
    "        return 'Unknown'\n",
    "\n",
    "to_category = udf(category_mapping, StringType())"
   ]
  },
  {
   "cell_type": "code",
   "execution_count": 37,
   "metadata": {},
   "outputs": [
    {
     "name": "stdout",
     "output_type": "stream",
     "text": [
      "+-----------+-----+-----------+\n",
      "|category_id|count|   category|\n",
      "+-----------+-----+-----------+\n",
      "|        3.0|39458|       Thai|\n",
      "|       14.0|29813|Coffee Shop|\n",
      "|       30.0|29759|    Unknown|\n",
      "|       37.0|24307|    Unknown|\n",
      "|       36.0|15255|    Unknown|\n",
      "|       34.0|13518|    Unknown|\n",
      "|       12.0| 7959|Street Food|\n",
      "|       24.0| 7744|    Unknown|\n",
      "|       35.0| 7620|    Unknown|\n",
      "|       23.0| 7009|    Unknown|\n",
      "|        4.0| 6860|    Chinese|\n",
      "|       29.0| 6794|    Unknown|\n",
      "|       21.0| 6381|    Unknown|\n",
      "|       15.0| 5828|     Others|\n",
      "|        2.0| 5713|   Japanese|\n",
      "|       20.0| 5105|    Unknown|\n",
      "|       33.0| 4045|    Unknown|\n",
      "|       28.0| 3923|    Unknown|\n",
      "|       18.0| 3828|    Unknown|\n",
      "|       25.0| 3780|    Unknown|\n",
      "+-----------+-----+-----------+\n",
      "only showing top 20 rows\n",
      "\n"
     ]
    }
   ],
   "source": [
    "new_top_cat = top_cat.withColumn('category', to_category(top_cat.category_id))\n",
    "new_top_cat.show()"
   ]
  },
  {
   "cell_type": "code",
   "execution_count": null,
   "metadata": {},
   "outputs": [],
   "source": []
  }
 ],
 "metadata": {
  "kernelspec": {
   "display_name": "Python 3",
   "language": "python",
   "name": "python3"
  },
  "language_info": {
   "codemirror_mode": {
    "name": "ipython",
    "version": 3
   },
   "file_extension": ".py",
   "mimetype": "text/x-python",
   "name": "python",
   "nbconvert_exporter": "python",
   "pygments_lexer": "ipython3",
   "version": "3.7.6"
  },
  "toc": {
   "base_numbering": 1,
   "nav_menu": {},
   "number_sections": true,
   "sideBar": true,
   "skip_h1_title": false,
   "title_cell": "Table of Contents",
   "title_sidebar": "Contents",
   "toc_cell": false,
   "toc_position": {},
   "toc_section_display": true,
   "toc_window_display": false
  },
  "varInspector": {
   "cols": {
    "lenName": 16,
    "lenType": 16,
    "lenVar": 40
   },
   "kernels_config": {
    "python": {
     "delete_cmd_postfix": "",
     "delete_cmd_prefix": "del ",
     "library": "var_list.py",
     "varRefreshCmd": "print(var_dic_list())"
    },
    "r": {
     "delete_cmd_postfix": ") ",
     "delete_cmd_prefix": "rm(",
     "library": "var_list.r",
     "varRefreshCmd": "cat(var_dic_list()) "
    }
   },
   "types_to_exclude": [
    "module",
    "function",
    "builtin_function_or_method",
    "instance",
    "_Feature"
   ],
   "window_display": false
  }
 },
 "nbformat": 4,
 "nbformat_minor": 4
}
